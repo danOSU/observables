{
 "cells": [
  {
   "cell_type": "code",
   "execution_count": 1,
   "id": "thermal-million",
   "metadata": {},
   "outputs": [],
   "source": [
    "import pandas as pd\n",
    "import numpy as np"
   ]
  },
  {
   "cell_type": "code",
   "execution_count": 2,
   "id": "adjusted-peter",
   "metadata": {},
   "outputs": [],
   "source": [
    "a = np.array([0,2,3,4,5])\n"
   ]
  },
  {
   "cell_type": "code",
   "execution_count": 5,
   "id": "weird-currency",
   "metadata": {},
   "outputs": [],
   "source": [
    "def change(num):\n",
    "    b= a.copy()\n",
    "    b[2]=num\n",
    "    return b"
   ]
  },
  {
   "cell_type": "code",
   "execution_count": 6,
   "id": "vulnerable-builder",
   "metadata": {},
   "outputs": [
    {
     "data": {
      "text/plain": [
       "array([ 0,  2, 33,  4,  5])"
      ]
     },
     "execution_count": 6,
     "metadata": {},
     "output_type": "execute_result"
    }
   ],
   "source": [
    "change(33)"
   ]
  },
  {
   "cell_type": "code",
   "execution_count": 29,
   "id": "delayed-library",
   "metadata": {},
   "outputs": [],
   "source": [
    "df_mean = pd.read_csv('mean_for_ozge_150design')\n",
    "df_sd = pd.read_csv('sd_for_ozge_150design')"
   ]
  },
  {
   "cell_type": "code",
   "execution_count": 48,
   "id": "raising-disorder",
   "metadata": {},
   "outputs": [
    {
     "data": {
      "text/plain": [
       "(150, 124)"
      ]
     },
     "execution_count": 48,
     "metadata": {},
     "output_type": "execute_result"
    }
   ],
   "source": [
    "df_mean.shape"
   ]
  },
  {
   "cell_type": "code",
   "execution_count": 49,
   "id": "intimate-virus",
   "metadata": {},
   "outputs": [
    {
     "data": {
      "text/plain": [
       "(150, 124)"
      ]
     },
     "execution_count": 49,
     "metadata": {},
     "output_type": "execute_result"
    }
   ],
   "source": [
    "df_sd.shape"
   ]
  },
  {
   "cell_type": "code",
   "execution_count": 35,
   "id": "focused-optics",
   "metadata": {},
   "outputs": [],
   "source": [
    "design = pd.read_csv('design_20210627.txt', delimiter = ' ')"
   ]
  },
  {
   "cell_type": "code",
   "execution_count": 37,
   "id": "identified-documentary",
   "metadata": {},
   "outputs": [
    {
     "data": {
      "text/html": [
       "<div>\n",
       "<style scoped>\n",
       "    .dataframe tbody tr th:only-of-type {\n",
       "        vertical-align: middle;\n",
       "    }\n",
       "\n",
       "    .dataframe tbody tr th {\n",
       "        vertical-align: top;\n",
       "    }\n",
       "\n",
       "    .dataframe thead th {\n",
       "        text-align: right;\n",
       "    }\n",
       "</style>\n",
       "<table border=\"1\" class=\"dataframe\">\n",
       "  <thead>\n",
       "    <tr style=\"text-align: right;\">\n",
       "      <th></th>\n",
       "      <th>Pb_Pb</th>\n",
       "      <th>Mean</th>\n",
       "      <th>Width</th>\n",
       "      <th>Dist</th>\n",
       "      <th>Flactutation</th>\n",
       "      <th>Temp</th>\n",
       "      <th>Kink</th>\n",
       "      <th>eta_s</th>\n",
       "      <th>Slope_low</th>\n",
       "      <th>Slope_high</th>\n",
       "      <th>Max</th>\n",
       "      <th>Temp_peak</th>\n",
       "      <th>Width_peak</th>\n",
       "      <th>Asym_peak</th>\n",
       "      <th>R</th>\n",
       "      <th>tau_initial</th>\n",
       "    </tr>\n",
       "  </thead>\n",
       "  <tbody>\n",
       "    <tr>\n",
       "      <th>0</th>\n",
       "      <td>16.90</td>\n",
       "      <td>0.0462</td>\n",
       "      <td>1.443</td>\n",
       "      <td>2.608803</td>\n",
       "      <td>1.6685</td>\n",
       "      <td>0.15189</td>\n",
       "      <td>0.18661</td>\n",
       "      <td>0.02197</td>\n",
       "      <td>-0.485</td>\n",
       "      <td>-0.943</td>\n",
       "      <td>0.05296</td>\n",
       "      <td>0.18318</td>\n",
       "      <td>0.060625</td>\n",
       "      <td>0.7568</td>\n",
       "      <td>0.6199</td>\n",
       "      <td>0.38435</td>\n",
       "    </tr>\n",
       "    <tr>\n",
       "      <th>1</th>\n",
       "      <td>11.70</td>\n",
       "      <td>0.6370</td>\n",
       "      <td>1.153</td>\n",
       "      <td>1.341249</td>\n",
       "      <td>1.0463</td>\n",
       "      <td>0.14991</td>\n",
       "      <td>0.16009</td>\n",
       "      <td>0.07897</td>\n",
       "      <td>-0.359</td>\n",
       "      <td>-0.649</td>\n",
       "      <td>0.04288</td>\n",
       "      <td>0.16266</td>\n",
       "      <td>0.032125</td>\n",
       "      <td>-0.6448</td>\n",
       "      <td>0.7795</td>\n",
       "      <td>0.15485</td>\n",
       "    </tr>\n",
       "    <tr>\n",
       "      <th>2</th>\n",
       "      <td>28.50</td>\n",
       "      <td>-0.2170</td>\n",
       "      <td>1.023</td>\n",
       "      <td>1.842375</td>\n",
       "      <td>1.1517</td>\n",
       "      <td>0.16281</td>\n",
       "      <td>0.25631</td>\n",
       "      <td>0.02311</td>\n",
       "      <td>0.991</td>\n",
       "      <td>0.089</td>\n",
       "      <td>0.24496</td>\n",
       "      <td>0.12774</td>\n",
       "      <td>0.140375</td>\n",
       "      <td>-0.0592</td>\n",
       "      <td>0.3931</td>\n",
       "      <td>0.16115</td>\n",
       "    </tr>\n",
       "    <tr>\n",
       "      <th>3</th>\n",
       "      <td>23.18</td>\n",
       "      <td>-0.2562</td>\n",
       "      <td>1.263</td>\n",
       "      <td>1.763767</td>\n",
       "      <td>0.6995</td>\n",
       "      <td>0.15561</td>\n",
       "      <td>0.14649</td>\n",
       "      <td>0.13787</td>\n",
       "      <td>-0.461</td>\n",
       "      <td>1.487</td>\n",
       "      <td>0.24448</td>\n",
       "      <td>0.29478</td>\n",
       "      <td>0.029125</td>\n",
       "      <td>0.2128</td>\n",
       "      <td>0.8789</td>\n",
       "      <td>0.31505</td>\n",
       "    </tr>\n",
       "    <tr>\n",
       "      <th>4</th>\n",
       "      <td>20.06</td>\n",
       "      <td>0.1078</td>\n",
       "      <td>0.769</td>\n",
       "      <td>2.874105</td>\n",
       "      <td>1.2877</td>\n",
       "      <td>0.14445</td>\n",
       "      <td>0.20463</td>\n",
       "      <td>0.11925</td>\n",
       "      <td>-1.433</td>\n",
       "      <td>1.637</td>\n",
       "      <td>0.01696</td>\n",
       "      <td>0.25878</td>\n",
       "      <td>0.113625</td>\n",
       "      <td>-0.4272</td>\n",
       "      <td>0.3987</td>\n",
       "      <td>0.20975</td>\n",
       "    </tr>\n",
       "  </tbody>\n",
       "</table>\n",
       "</div>"
      ],
      "text/plain": [
       "   Pb_Pb    Mean  Width      Dist  Flactutation     Temp     Kink    eta_s  \\\n",
       "0  16.90  0.0462  1.443  2.608803        1.6685  0.15189  0.18661  0.02197   \n",
       "1  11.70  0.6370  1.153  1.341249        1.0463  0.14991  0.16009  0.07897   \n",
       "2  28.50 -0.2170  1.023  1.842375        1.1517  0.16281  0.25631  0.02311   \n",
       "3  23.18 -0.2562  1.263  1.763767        0.6995  0.15561  0.14649  0.13787   \n",
       "4  20.06  0.1078  0.769  2.874105        1.2877  0.14445  0.20463  0.11925   \n",
       "\n",
       "   Slope_low  Slope_high      Max  Temp_peak  Width_peak  Asym_peak       R  \\\n",
       "0     -0.485      -0.943  0.05296    0.18318    0.060625     0.7568  0.6199   \n",
       "1     -0.359      -0.649  0.04288    0.16266    0.032125    -0.6448  0.7795   \n",
       "2      0.991       0.089  0.24496    0.12774    0.140375    -0.0592  0.3931   \n",
       "3     -0.461       1.487  0.24448    0.29478    0.029125     0.2128  0.8789   \n",
       "4     -1.433       1.637  0.01696    0.25878    0.113625    -0.4272  0.3987   \n",
       "\n",
       "   tau_initial  \n",
       "0      0.38435  \n",
       "1      0.15485  \n",
       "2      0.16115  \n",
       "3      0.31505  \n",
       "4      0.20975  "
      ]
     },
     "execution_count": 37,
     "metadata": {},
     "output_type": "execute_result"
    }
   ],
   "source": [
    "design.head()"
   ]
  },
  {
   "cell_type": "code",
   "execution_count": 21,
   "id": "formal-restaurant",
   "metadata": {},
   "outputs": [
    {
     "data": {
      "text/plain": [
       "(500, 16)"
      ]
     },
     "execution_count": 21,
     "metadata": {},
     "output_type": "execute_result"
    }
   ],
   "source": [
    "design.shape"
   ]
  },
  {
   "cell_type": "code",
   "execution_count": 38,
   "id": "surrounded-coupon",
   "metadata": {},
   "outputs": [],
   "source": [
    "exp_data = pd.read_csv('PbPb2760_experiment')"
   ]
  },
  {
   "cell_type": "code",
   "execution_count": 39,
   "id": "exterior-smoke",
   "metadata": {},
   "outputs": [
    {
     "data": {
      "text/html": [
       "<div>\n",
       "<style scoped>\n",
       "    .dataframe tbody tr th:only-of-type {\n",
       "        vertical-align: middle;\n",
       "    }\n",
       "\n",
       "    .dataframe tbody tr th {\n",
       "        vertical-align: top;\n",
       "    }\n",
       "\n",
       "    .dataframe thead th {\n",
       "        text-align: right;\n",
       "    }\n",
       "</style>\n",
       "<table border=\"1\" class=\"dataframe\">\n",
       "  <thead>\n",
       "    <tr style=\"text-align: right;\">\n",
       "      <th></th>\n",
       "      <th>Unnamed: 0</th>\n",
       "      <th>dNch_deta[0 5]</th>\n",
       "      <th>dNch_deta[ 5 10]</th>\n",
       "      <th>dNch_deta[10 20]</th>\n",
       "      <th>dNch_deta[20 30]</th>\n",
       "      <th>dNch_deta[30 40]</th>\n",
       "      <th>dNch_deta[40 50]</th>\n",
       "      <th>dNch_deta[50 60]</th>\n",
       "      <th>dNch_deta[60 70]</th>\n",
       "      <th>dET_deta[0.  2.5]</th>\n",
       "      <th>...</th>\n",
       "      <th>v32[10 20]</th>\n",
       "      <th>v32[20 30]</th>\n",
       "      <th>v32[30 40]</th>\n",
       "      <th>v32[40 50]</th>\n",
       "      <th>v42[0 5]</th>\n",
       "      <th>v42[ 5 10]</th>\n",
       "      <th>v42[10 20]</th>\n",
       "      <th>v42[20 30]</th>\n",
       "      <th>v42[30 40]</th>\n",
       "      <th>v42[40 50]</th>\n",
       "    </tr>\n",
       "  </thead>\n",
       "  <tbody>\n",
       "    <tr>\n",
       "      <th>0</th>\n",
       "      <td>mean</td>\n",
       "      <td>1601.0</td>\n",
       "      <td>1294.0</td>\n",
       "      <td>966.0</td>\n",
       "      <td>649.0</td>\n",
       "      <td>426.0</td>\n",
       "      <td>261.0</td>\n",
       "      <td>149.0</td>\n",
       "      <td>76.0</td>\n",
       "      <td>1803.0</td>\n",
       "      <td>...</td>\n",
       "      <td>0.026220</td>\n",
       "      <td>0.028840</td>\n",
       "      <td>0.030310</td>\n",
       "      <td>0.030220</td>\n",
       "      <td>9.720000e-03</td>\n",
       "      <td>1.133000e-02</td>\n",
       "      <td>1.250000e-02</td>\n",
       "      <td>1.390000e-02</td>\n",
       "      <td>1.540000e-02</td>\n",
       "      <td>0.015140</td>\n",
       "    </tr>\n",
       "    <tr>\n",
       "      <th>1</th>\n",
       "      <td>variance</td>\n",
       "      <td>3600.0</td>\n",
       "      <td>2401.0</td>\n",
       "      <td>1369.0</td>\n",
       "      <td>529.0</td>\n",
       "      <td>225.0</td>\n",
       "      <td>81.0</td>\n",
       "      <td>36.0</td>\n",
       "      <td>16.0</td>\n",
       "      <td>11981.0</td>\n",
       "      <td>...</td>\n",
       "      <td>0.000001</td>\n",
       "      <td>0.000001</td>\n",
       "      <td>0.000002</td>\n",
       "      <td>0.000002</td>\n",
       "      <td>2.362000e-07</td>\n",
       "      <td>4.234000e-07</td>\n",
       "      <td>3.229000e-07</td>\n",
       "      <td>5.345000e-07</td>\n",
       "      <td>7.093000e-07</td>\n",
       "      <td>0.000001</td>\n",
       "    </tr>\n",
       "  </tbody>\n",
       "</table>\n",
       "<p>2 rows × 111 columns</p>\n",
       "</div>"
      ],
      "text/plain": [
       "  Unnamed: 0  dNch_deta[0 5]  dNch_deta[ 5 10]  dNch_deta[10 20]  \\\n",
       "0       mean          1601.0            1294.0             966.0   \n",
       "1   variance          3600.0            2401.0            1369.0   \n",
       "\n",
       "   dNch_deta[20 30]  dNch_deta[30 40]  dNch_deta[40 50]  dNch_deta[50 60]  \\\n",
       "0             649.0             426.0             261.0             149.0   \n",
       "1             529.0             225.0              81.0              36.0   \n",
       "\n",
       "   dNch_deta[60 70]  dET_deta[0.  2.5]  ...  v32[10 20]  v32[20 30]  \\\n",
       "0              76.0             1803.0  ...    0.026220    0.028840   \n",
       "1              16.0            11981.0  ...    0.000001    0.000001   \n",
       "\n",
       "   v32[30 40]  v32[40 50]      v42[0 5]    v42[ 5 10]    v42[10 20]  \\\n",
       "0    0.030310    0.030220  9.720000e-03  1.133000e-02  1.250000e-02   \n",
       "1    0.000002    0.000002  2.362000e-07  4.234000e-07  3.229000e-07   \n",
       "\n",
       "     v42[20 30]    v42[30 40]  v42[40 50]  \n",
       "0  1.390000e-02  1.540000e-02    0.015140  \n",
       "1  5.345000e-07  7.093000e-07    0.000001  \n",
       "\n",
       "[2 rows x 111 columns]"
      ]
     },
     "execution_count": 39,
     "metadata": {},
     "output_type": "execute_result"
    }
   ],
   "source": [
    "exp_data"
   ]
  },
  {
   "cell_type": "code",
   "execution_count": null,
   "id": "progressive-princeton",
   "metadata": {},
   "outputs": [],
   "source": []
  }
 ],
 "metadata": {
  "kernelspec": {
   "display_name": "Python 3",
   "language": "python",
   "name": "python3"
  },
  "language_info": {
   "codemirror_mode": {
    "name": "ipython",
    "version": 3
   },
   "file_extension": ".py",
   "mimetype": "text/x-python",
   "name": "python",
   "nbconvert_exporter": "python",
   "pygments_lexer": "ipython3",
   "version": "3.6.13"
  }
 },
 "nbformat": 4,
 "nbformat_minor": 5
}
